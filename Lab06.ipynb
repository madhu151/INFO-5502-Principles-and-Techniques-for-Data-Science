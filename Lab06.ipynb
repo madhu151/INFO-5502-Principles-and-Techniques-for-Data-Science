{
 "cells": [
  {
   "cell_type": "markdown",
   "metadata": {},
   "source": [
    "# Lab 06: Image Classification"
   ]
  },
  {
   "cell_type": "code",
   "execution_count": 4,
   "metadata": {},
   "outputs": [],
   "source": [
    "#Importing Python Modules\n",
    "import matplotlib.pyplot as plt \n",
    "import matplotlib.image as mpimg\n",
    "import numpy as np\n",
    "from PIL import Image\n",
    "from sklearn import neighbors"
   ]
  },
  {
   "cell_type": "markdown",
   "metadata": {},
   "source": [
    "1. Create a list with the names called image_files \n",
    "The following list has been made for you to simplify this. Note, in practice you would likely store these files in separate folders and simply read all the files in each folder so that you could add/remove files without editing source code.\n",
    "['farm1.jpg', 'farm2.jpg', 'farm3.jpg', 'farm4.jpg',\n",
    " 'farm5.jpg', 'farm6.jpg', 'farm7.jpg', 'farm8.jpg',\n",
    " 'city1.jpg', 'city2.jpg', 'city3.jpg', 'city4.jpg',\n",
    " 'city5.jpg', 'city6.jpg', 'city7.jpg', 'city8.jpg',\n",
    " 'desert1.jpg', 'desert2.jpg', 'desert3.jpg', 'desert4.jpg',\n",
    " 'desert5.jpg', 'desert6.jpg', 'desert7.jpg', 'desert8.jpg']\n"
   ]
  },
  {
   "cell_type": "code",
   "execution_count": 5,
   "metadata": {},
   "outputs": [],
   "source": [
    "images_list = ['farm1.jpg', 'farm2.jpg', 'farm3.jpg', 'farm4.jpg',\n",
    " 'farm5.jpg', 'farm6.jpg', 'farm7.jpg', 'farm8.jpg',\n",
    " 'city1.jpg', 'city2.jpg', 'city3.jpg', 'city4.jpg',\n",
    " 'city5.jpg', 'city6.jpg', 'city7.jpg', 'city8.jpg',\n",
    " 'desert1.jpg', 'desert2.jpg', 'desert3.jpg', 'desert4.jpg',\n",
    " 'desert5.jpg', 'desert6.jpg', 'desert7.jpg', 'desert8.jpg']\n"
   ]
  },
  {
   "cell_type": "markdown",
   "metadata": {},
   "source": [
    "2. Create the scatter plot in the first page\n",
    "Create a scatter plot using the farm/city/desert image data set where each point represents an image, the x axis is the percent green in the image, and the y axis represents the percent blue. The plot should be titled with x and y axis labels, a different color for each of the 3 image classes, and a legend showing which class corresponds to which color. Note: this is with 24 images total, so you will likely want to find some way to automate the process of getting this data for the scatterplot. You can use a for loop to do this. Get the image file name by reading it from the image_files list from step 1. Then perform image processing to get the percent of blue and the percent of green. \n"
   ]
  },
  {
   "cell_type": "code",
   "execution_count": 6,
   "metadata": {},
   "outputs": [
    {
     "ename": "FileNotFoundError",
     "evalue": "[Errno 2] No such file or directory: 'farm1.jpg'",
     "output_type": "error",
     "traceback": [
      "\u001b[0;31m---------------------------------------------------------------------------\u001b[0m",
      "\u001b[0;31mFileNotFoundError\u001b[0m                         Traceback (most recent call last)",
      "Input \u001b[0;32mIn [6]\u001b[0m, in \u001b[0;36m<module>\u001b[0;34m\u001b[0m\n\u001b[1;32m      6\u001b[0m city_blue \u001b[38;5;241m=\u001b[39m []\n\u001b[1;32m      8\u001b[0m \u001b[38;5;28;01mfor\u001b[39;00m img \u001b[38;5;129;01min\u001b[39;00m images_list[:\u001b[38;5;241m8\u001b[39m]:\n\u001b[0;32m----> 9\u001b[0m     image \u001b[38;5;241m=\u001b[39m \u001b[43mmpimg\u001b[49m\u001b[38;5;241;43m.\u001b[39;49m\u001b[43mimread\u001b[49m\u001b[43m(\u001b[49m\u001b[43mimg\u001b[49m\u001b[43m)\u001b[49m\n\u001b[1;32m     10\u001b[0m     tuple_rgb \u001b[38;5;241m=\u001b[39m np\u001b[38;5;241m.\u001b[39marray(image)\u001b[38;5;241m.\u001b[39mmean(axis\u001b[38;5;241m=\u001b[39m(\u001b[38;5;241m0\u001b[39m,\u001b[38;5;241m1\u001b[39m))\n\u001b[1;32m     11\u001b[0m     avg_red \u001b[38;5;241m=\u001b[39m tuple_rgb[\u001b[38;5;241m0\u001b[39m]\n",
      "File \u001b[0;32m/Library/Frameworks/Python.framework/Versions/3.10/lib/python3.10/site-packages/matplotlib/image.py:1560\u001b[0m, in \u001b[0;36mimread\u001b[0;34m(fname, format)\u001b[0m\n\u001b[1;32m   1558\u001b[0m                 response \u001b[38;5;241m=\u001b[39m io\u001b[38;5;241m.\u001b[39mBytesIO(response\u001b[38;5;241m.\u001b[39mread())\n\u001b[1;32m   1559\u001b[0m             \u001b[38;5;28;01mreturn\u001b[39;00m imread(response, \u001b[38;5;28mformat\u001b[39m\u001b[38;5;241m=\u001b[39mext)\n\u001b[0;32m-> 1560\u001b[0m \u001b[38;5;28;01mwith\u001b[39;00m \u001b[43mimg_open\u001b[49m\u001b[43m(\u001b[49m\u001b[43mfname\u001b[49m\u001b[43m)\u001b[49m \u001b[38;5;28;01mas\u001b[39;00m image:\n\u001b[1;32m   1561\u001b[0m     \u001b[38;5;28;01mreturn\u001b[39;00m (_pil_png_to_float_array(image)\n\u001b[1;32m   1562\u001b[0m             \u001b[38;5;28;01mif\u001b[39;00m \u001b[38;5;28misinstance\u001b[39m(image, PIL\u001b[38;5;241m.\u001b[39mPngImagePlugin\u001b[38;5;241m.\u001b[39mPngImageFile) \u001b[38;5;28;01melse\u001b[39;00m\n\u001b[1;32m   1563\u001b[0m             pil_to_array(image))\n",
      "File \u001b[0;32m/Library/Frameworks/Python.framework/Versions/3.10/lib/python3.10/site-packages/PIL/Image.py:2953\u001b[0m, in \u001b[0;36mopen\u001b[0;34m(fp, mode, formats)\u001b[0m\n\u001b[1;32m   2950\u001b[0m     filename \u001b[38;5;241m=\u001b[39m fp\n\u001b[1;32m   2952\u001b[0m \u001b[38;5;28;01mif\u001b[39;00m filename:\n\u001b[0;32m-> 2953\u001b[0m     fp \u001b[38;5;241m=\u001b[39m \u001b[43mbuiltins\u001b[49m\u001b[38;5;241;43m.\u001b[39;49m\u001b[43mopen\u001b[49m\u001b[43m(\u001b[49m\u001b[43mfilename\u001b[49m\u001b[43m,\u001b[49m\u001b[43m \u001b[49m\u001b[38;5;124;43m\"\u001b[39;49m\u001b[38;5;124;43mrb\u001b[39;49m\u001b[38;5;124;43m\"\u001b[39;49m\u001b[43m)\u001b[49m\n\u001b[1;32m   2954\u001b[0m     exclusive_fp \u001b[38;5;241m=\u001b[39m \u001b[38;5;28;01mTrue\u001b[39;00m\n\u001b[1;32m   2956\u001b[0m \u001b[38;5;28;01mtry\u001b[39;00m:\n",
      "\u001b[0;31mFileNotFoundError\u001b[0m: [Errno 2] No such file or directory: 'farm1.jpg'"
     ]
    }
   ],
   "source": [
    "farm_green = []\n",
    "desert_green = []\n",
    "city_green = []\n",
    "farm_blue = []\n",
    "desert_blue = []\n",
    "city_blue = []\n",
    "\n",
    "for img in images_list[:8]:\n",
    "    image = mpimg.imread(img)\n",
    "    tuple_rgb = np.array(image).mean(axis=(0,1))\n",
    "    avg_red = tuple_rgb[0]\n",
    "    avg_green = tuple_rgb[1]\n",
    "    avg_blue = tuple_rgb[2]\n",
    "    percent_green = avg_green/(avg_green+avg_blue+avg_red)\n",
    "    percent_blue = avg_blue/(avg_green+avg_blue+avg_red)\n",
    "    farm_green.append(percent_green)\n",
    "    farm_blue.append(percent_blue)\n",
    "    \n",
    "for img in images_list[8:16]:\n",
    "    image = mpimg.imread(img)\n",
    "    tuple_rgb = np.array(image).mean(axis=(0,1))\n",
    "    avg_red = tuple_rgb[0]\n",
    "    avg_green = tuple_rgb[1]\n",
    "    avg_blue = tuple_rgb[2]\n",
    "    percent_green = avg_green/(avg_green+avg_blue+avg_red)\n",
    "    percent_blue = avg_blue/(avg_green+avg_blue+avg_red)\n",
    "    city_green.append(percent_green)\n",
    "    city_blue.append(percent_blue)\n",
    "    \n",
    "for img in images_list[16:]:\n",
    "    image = mpimg.imread(img)\n",
    "    tuple_rgb = np.array(image).mean(axis=(0,1))\n",
    "    avg_red = tuple_rgb[0]\n",
    "    avg_green = tuple_rgb[1]\n",
    "    avg_blue = tuple_rgb[2]\n",
    "    percent_green = avg_green/(avg_green+avg_blue+avg_red)\n",
    "    percent_blue = avg_blue/(avg_green+avg_blue+avg_red)\n",
    "    desert_green.append(percent_green)\n",
    "    desert_blue.append(percent_blue)    \n",
    "    \n",
    "plt.figure(figsize=(8, 5))\n",
    "plt.scatter(farm_green, farm_blue, s=100, marker='s', c='green')\n",
    "plt.scatter(city_green, city_blue, s=100, marker='x', c='blue')\n",
    "plt.scatter(desert_green, desert_blue, s=100, marker='o', c='brown')\n",
    "plt.title('Farm, City and Desert Images', fontsize=16, fontweight='bold', color='purple')\n",
    "plt.xlabel('Percent Green', fontsize=15, fontweight='bold', color='green')\n",
    "plt.ylabel('Percent Blue', fontsize=15, fontweight='bold', color='blue')\n",
    "plt.legend(['farm', 'city', 'desert'])\n",
    "plt.show()"
   ]
  },
  {
   "cell_type": "markdown",
   "metadata": {},
   "source": [
    "3. Now create an array of strings called training_target with the category of each.\n",
    "You can use this for convenience:\n",
    "['farm', 'farm', 'farm', 'farm',\n",
    " 'farm', 'farm', 'farm', 'farm',\n",
    " 'city', 'city', 'city', 'city',\n",
    " 'city', 'city', 'city', 'city',\n",
    " 'desert', 'desert', 'desert', 'desert',\n",
    " 'desert', 'desert', 'desert', 'desert']\n"
   ]
  },
  {
   "cell_type": "code",
   "execution_count": null,
   "metadata": {},
   "outputs": [],
   "source": [
    "training_target = ['farm', 'farm', 'farm', 'farm',\n",
    " 'farm', 'farm', 'farm', 'farm',\n",
    " 'city', 'city', 'city', 'city',\n",
    " 'city', 'city', 'city', 'city',\n",
    " 'desert', 'desert', 'desert', 'desert',\n",
    " 'desert', 'desert', 'desert', 'desert']\n"
   ]
  },
  {
   "cell_type": "markdown",
   "metadata": {},
   "source": [
    "4. Create an empty array of zeros called training_data that will eventually store the percent green and percent blue values.\n",
    "You will be filling this soon. Given the needs of your data set (24 samples and 2 columns), it should have 24 rows and 2 columns.\n"
   ]
  },
  {
   "cell_type": "code",
   "execution_count": null,
   "metadata": {},
   "outputs": [],
   "source": [
    "training_data = np.zeros((24, 2))"
   ]
  },
  {
   "cell_type": "markdown",
   "metadata": {},
   "source": [
    "5. Now fill the training_data array with the proper values for each image, and observe the values in the array after it is finished.\n",
    "You already have the percent of blue and the percent of green for all images from step 2. Make sure to put those two values in the proper place in the training_data array.\n"
   ]
  },
  {
   "cell_type": "code",
   "execution_count": null,
   "metadata": {},
   "outputs": [],
   "source": [
    "for i in range(8):\n",
    "    training_data[i, 0] = farm_green[i]\n",
    "    training_data[8+i, 0] = city_green[i]\n",
    "    training_data[16+i, 0] = desert_green[i]\n",
    "    training_data[i, 1] = farm_blue[i]\n",
    "    training_data[8+i, 1] = city_blue[i]\n",
    "    training_data[16+i, 1] = desert_blue[i]\n",
    "    \n",
    "training_data    "
   ]
  },
  {
   "cell_type": "markdown",
   "metadata": {},
   "source": [
    "6. Create your classifier. \n",
    "This can often be done in one line. In this case, we suggest using the k-Nearest Neighbors classifier as shown in the tutorial (use k=1), but you can try others if you are interested. \n"
   ]
  },
  {
   "cell_type": "code",
   "execution_count": null,
   "metadata": {},
   "outputs": [],
   "source": [
    "classfier = neighbors.KNeighborsClassifier(n_neighbors=1, weights='distance')"
   ]
  },
  {
   "cell_type": "markdown",
   "metadata": {},
   "source": [
    "7. Train your classifier. \n",
    "Again, this is often only one line of code where you provide the training data and the training target to the classifier you just created to the classifier’s ‘fit’ or ‘training’ function. For such a small data set, this will be fast, but for larger data sets sometimes this is time consuming.\n",
    "Now you have a trained classifier... great! Now we’ll set up the application for it.\n"
   ]
  },
  {
   "cell_type": "code",
   "execution_count": null,
   "metadata": {},
   "outputs": [],
   "source": [
    "classfier.fit(training_data, training_target)\n",
    "neighbors.KNeighborsClassifier(algorithm='auto', leaf_size=30, metric='minkowski', weights='distance', p=2,\n",
    "                               n_neighbors=1, \n",
    "                               n_jobs=None, metric_params=None)"
   ]
  },
  {
   "cell_type": "markdown",
   "metadata": {},
   "source": [
    "8. Now create an empty test_data array and fill it with the proper values for each test image, and observe the filled array and consider if it matches your expectations based on your observations of the images.\n",
    "test_data should start with zeros and be 3 rows (for three test images) and 2 columns (for % green then % blue for each image). Loop through the three test images to fill in the values of the array.\n"
   ]
  },
  {
   "cell_type": "code",
   "execution_count": null,
   "metadata": {},
   "outputs": [],
   "source": [
    "test = ['test1.jpg', 'test2.jpg', 'test3.jpg']\n",
    "test_green = []\n",
    "test_blue = []\n",
    "\n",
    "for image in test:\n",
    "    img = mpimg.imread(image)\n",
    "    tuple_rgb = np.array(img).mean(axis=(0,1))\n",
    "    avg_red = tuple_rgb[0]\n",
    "    avg_green = tuple_rgb[1]\n",
    "    avg_blue = tuple_rgb[2]\n",
    "    percent_green = avg_green/(avg_green+avg_blue+avg_red)\n",
    "    percent_blue = avg_blue/(avg_green+avg_blue+avg_red)\n",
    "    test_green.append(percent_green)\n",
    "    test_blue.append(percent_blue)\n",
    "    \n",
    "test_data = np.zeros((3, 2))\n",
    "\n",
    "for i in range(3):\n",
    "    test_data[i, 0] = test_green[i]\n",
    "    test_data[i, 1] = test_blue[i]\n",
    "    \n",
    "test_data   "
   ]
  },
  {
   "cell_type": "markdown",
   "metadata": {},
   "source": [
    "9. Predict the class of the test images. \n",
    "Now predict the classes given the test_data array. This should only take one line of code if the test_data array is prepared.\n"
   ]
  },
  {
   "cell_type": "code",
   "execution_count": null,
   "metadata": {},
   "outputs": [],
   "source": [
    "classfier_prediction = classfier.predict(test_data)\n",
    "classfier_prediction"
   ]
  },
  {
   "cell_type": "markdown",
   "metadata": {},
   "source": [
    "10. Print the prediction from the test images and compare with the actual images shown below. Make this comparison clear in the output of your code (e.g. prepend with ‘predicted:’ and ‘actual:’)."
   ]
  },
  {
   "cell_type": "code",
   "execution_count": null,
   "metadata": {},
   "outputs": [],
   "source": [
    "print('Predicted images are:', classfier_prediction)\n",
    "print('Actual images are:', ['farm', 'city', 'desert'])"
   ]
  },
  {
   "cell_type": "code",
   "execution_count": null,
   "metadata": {},
   "outputs": [],
   "source": []
  }
 ],
 "metadata": {
  "kernelspec": {
   "display_name": "Python 3 (ipykernel)",
   "language": "python",
   "name": "python3"
  },
  "language_info": {
   "codemirror_mode": {
    "name": "ipython",
    "version": 3
   },
   "file_extension": ".py",
   "mimetype": "text/x-python",
   "name": "python",
   "nbconvert_exporter": "python",
   "pygments_lexer": "ipython3",
   "version": "3.10.2"
  }
 },
 "nbformat": 4,
 "nbformat_minor": 2
}
